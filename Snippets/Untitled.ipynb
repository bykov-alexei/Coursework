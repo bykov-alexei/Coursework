{
 "cells": [
  {
   "cell_type": "code",
   "execution_count": 22,
   "metadata": {},
   "outputs": [],
   "source": [
    "import cv2\n",
    "import matplotlib.pyplot as plt\n",
    "import pandas as pd\n",
    "from io import StringIO"
   ]
  },
  {
   "cell_type": "code",
   "execution_count": 31,
   "metadata": {},
   "outputs": [
    {
     "data": {
      "text/html": [
       "<div>\n",
       "<style scoped>\n",
       "    .dataframe tbody tr th:only-of-type {\n",
       "        vertical-align: middle;\n",
       "    }\n",
       "\n",
       "    .dataframe tbody tr th {\n",
       "        vertical-align: top;\n",
       "    }\n",
       "\n",
       "    .dataframe thead th {\n",
       "        text-align: right;\n",
       "    }\n",
       "</style>\n",
       "<table border=\"1\" class=\"dataframe\">\n",
       "  <thead>\n",
       "    <tr style=\"text-align: right;\">\n",
       "      <th></th>\n",
       "      <th>ip</th>\n",
       "      <th>port</th>\n",
       "      <th>username</th>\n",
       "      <th>password</th>\n",
       "    </tr>\n",
       "  </thead>\n",
       "  <tbody>\n",
       "    <tr>\n",
       "      <th>0</th>\n",
       "      <td>86.252.143.15</td>\n",
       "      <td>8000</td>\n",
       "      <td>admin</td>\n",
       "      <td>12345</td>\n",
       "    </tr>\n",
       "    <tr>\n",
       "      <th>1</th>\n",
       "      <td>46.253.94.117</td>\n",
       "      <td>8000</td>\n",
       "      <td>admin</td>\n",
       "      <td>12345</td>\n",
       "    </tr>\n",
       "    <tr>\n",
       "      <th>2</th>\n",
       "      <td>92.27.142.128</td>\n",
       "      <td>8000</td>\n",
       "      <td>admin</td>\n",
       "      <td>12345</td>\n",
       "    </tr>\n",
       "    <tr>\n",
       "      <th>3</th>\n",
       "      <td>202.88.225.93</td>\n",
       "      <td>8000</td>\n",
       "      <td>admin</td>\n",
       "      <td>12345</td>\n",
       "    </tr>\n",
       "    <tr>\n",
       "      <th>4</th>\n",
       "      <td>119.34.105.105</td>\n",
       "      <td>8000</td>\n",
       "      <td>admin</td>\n",
       "      <td>12345</td>\n",
       "    </tr>\n",
       "  </tbody>\n",
       "</table>\n",
       "</div>"
      ],
      "text/plain": [
       "               ip  port username  password\n",
       "0   86.252.143.15  8000    admin     12345\n",
       "1   46.253.94.117  8000    admin     12345\n",
       "2   92.27.142.128  8000    admin     12345\n",
       "3   202.88.225.93  8000    admin     12345\n",
       "4  119.34.105.105  8000    admin     12345"
      ]
     },
     "execution_count": 31,
     "metadata": {},
     "output_type": "execute_result"
    }
   ],
   "source": [
    "file = StringIO(\"\"\"86.252.143.15,0,86.252.143.15,8000,0,admin,12345,0,0,0,0\n",
    "46.253.94.117,0,46.253.94.117,8000,0,admin,12345,0,0,0,0\n",
    "92.27.142.128,0,92.27.142.128,8000,0,admin,12345,0,0,0,0\n",
    "202.88.225.93,0,202.88.225.93,8000,0,admin,12345,0,0,0,0\n",
    "119.34.105.105,0,119.34.105.105,8000,0,admin,12345,0,0,0,0\n",
    "210.223.245.252,0,210.223.245.252,8000,0,admin,12345,0,0,0,0\n",
    "75.81.62.188,0,75.81.62.188,8000,0,admin,12345,0,0,0,0\n",
    "186.87.81.250,0,186.87.81.250,8000,0,admin,12345,0,0,0,0\n",
    "222.121.195.177,0,222.121.195.177,8000,0,admin,12345,0,0,0,0\n",
    "148.63.195.16,0,148.63.195.16,8000,0,admin,12345,0,0,0,0\"\"\")\n",
    "data = pd.read_csv(file, header=None).rename(columns={0: 'ip', 3: 'port', 5: 'username', 6: 'password'}).drop([1, 2, 4, 7, 8, 9, 10], axis=1)\n",
    "data.head()"
   ]
  },
  {
   "cell_type": "code",
   "execution_count": 59,
   "metadata": {},
   "outputs": [
    {
     "name": "stdout",
     "output_type": "stream",
     "text": [
      "148.63.195.16 8000 admin 12345\n"
     ]
    }
   ],
   "source": [
    "ip, port, username, password = data.iloc[9]\n",
    "print(ip, port, username, password)"
   ]
  },
  {
   "cell_type": "code",
   "execution_count": 60,
   "metadata": {},
   "outputs": [],
   "source": [
    "url = f'rstp://{username}{\":\" if username else \"\"}{password}@{ip}/{port}'\n",
    "\n",
    "capture = cv2.VideoCapture(url)"
   ]
  },
  {
   "cell_type": "code",
   "execution_count": 61,
   "metadata": {},
   "outputs": [
    {
     "data": {
      "text/plain": [
       "False"
      ]
     },
     "execution_count": 61,
     "metadata": {},
     "output_type": "execute_result"
    }
   ],
   "source": [
    "ret, frame = capture.read()\n",
    "ret"
   ]
  },
  {
   "cell_type": "code",
   "execution_count": 13,
   "metadata": {},
   "outputs": [
    {
     "data": {
      "text/plain": [
       "False"
      ]
     },
     "execution_count": 13,
     "metadata": {},
     "output_type": "execute_result"
    }
   ],
   "source": [
    "ret"
   ]
  },
  {
   "cell_type": "code",
   "execution_count": null,
   "metadata": {},
   "outputs": [],
   "source": []
  }
 ],
 "metadata": {
  "kernelspec": {
   "display_name": "Python 3",
   "language": "python",
   "name": "python3"
  },
  "language_info": {
   "codemirror_mode": {
    "name": "ipython",
    "version": 3
   },
   "file_extension": ".py",
   "mimetype": "text/x-python",
   "name": "python",
   "nbconvert_exporter": "python",
   "pygments_lexer": "ipython3",
   "version": "3.8.5"
  }
 },
 "nbformat": 4,
 "nbformat_minor": 4
}
